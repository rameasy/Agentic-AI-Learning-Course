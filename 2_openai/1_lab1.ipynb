{
 "cells": [
  {
   "cell_type": "markdown",
   "metadata": {},
   "source": [
    "## Week 2 Day 1\n",
    "\n",
    "And now! Our first look at OpenAI Agents SDK\n",
    "\n",
    "You won't believe how lightweight this is.."
   ]
  },
  {
   "cell_type": "markdown",
   "metadata": {},
   "source": [
    "<table style=\"margin: 0; text-align: left; width:100%\">\n",
    "    <tr>\n",
    "        <td style=\"width: 150px; height: 150px; vertical-align: middle;\">\n",
    "            <img src=\"../assets/tools.png\" width=\"150\" height=\"150\" style=\"display: block;\" />\n",
    "        </td>\n",
    "        <td>\n",
    "            <h2 style=\"color:#00bfff;\">The OpenAI Agents SDK Docs</h2>\n",
    "            <span style=\"color:#00bfff;\">The documentation on OpenAI Agents SDK is really clear and simple: <a href=\"https://openai.github.io/openai-agents-python/\">https://openai.github.io/openai-agents-python/</a> and it's well worth a look.\n",
    "            </span>\n",
    "        </td>\n",
    "    </tr>\n",
    "</table>"
   ]
  },
  {
   "cell_type": "code",
   "execution_count": 6,
   "metadata": {},
   "outputs": [],
   "source": [
    "# The imports\n",
    "\n",
    "from dotenv import load_dotenv\n",
    "from agents import Agent, Runner, trace\n",
    "\n"
   ]
  },
  {
   "cell_type": "code",
   "execution_count": 7,
   "metadata": {},
   "outputs": [
    {
     "data": {
      "text/plain": [
       "True"
      ]
     },
     "execution_count": 7,
     "metadata": {},
     "output_type": "execute_result"
    }
   ],
   "source": [
    "# The usual starting point\n",
    "\n",
    "load_dotenv(override=True)\n"
   ]
  },
  {
   "cell_type": "code",
   "execution_count": 8,
   "metadata": {},
   "outputs": [],
   "source": [
    "\n",
    "# Make an agent with name, instructions, model\n",
    "\n",
    "agent = Agent(name=\"Jokester\", instructions=\"You are a joke teller\", model=\"gpt-4o-mini\")\n",
    "agent2 = Agent(name=\"Comedian\", instructions=\"You are a comedian\", model=\"gpt-4o-mini\")"
   ]
  },
  {
   "cell_type": "code",
   "execution_count": 10,
   "metadata": {},
   "outputs": [
    {
     "name": "stdout",
     "output_type": "stream",
     "text": [
      "Why did the autonomous AI agent bring a ladder to the meeting?\n",
      "\n",
      "Because it wanted to take its decisions to a whole new level!\n",
      "Sure, here’s a short comedy bit about flight attendants:\n",
      "\n",
      "---\n",
      "\n",
      "So, I recently flew, and you know how flight attendants are like the superheroes of the sky? They walk down the aisle with that confident stride, like they just saved the world from a turbulence crisis.\n",
      "\n",
      "But here’s my question: Why do they make those safety demos sound so dramatic? I mean, “In the event of a sudden loss of cabin pressure, oxygen masks will drop down.” Seriously? What are we, in a soap opera? “Oxygen masks will drop down… and I’ll be there to comfort you—while wearing heels!”\n",
      "\n",
      "And then when they show us how to use a seatbelt, it’s like they’re teaching us a dance move. “And now, just slide the flat end into the buckle, pull the strap to tighten.” I’m pretty sure half the passengers are thinking, “Is the flight over, or do I need to start practicing my Cha-Cha?”\n",
      "\n",
      "But let’s be real, the highlight of any flight is when they start pouring drinks. Suddenly, everyone thinks they’re royalty. “Yes, I’ll have the sparkling water served in a glass, please—let’s keep it classy.” Meanwhile, we all know it’s just water from a bottle labeled “Aviation Refreshment!”\n",
      "\n",
      "And as they walk down that aisle with their little snack cart, they look like they’re offering you a choice between a five-star meal or a tiny bag of pretzels that somehow cost you three times what you pay at the airport. “Would you like pretzels or cookies?” Um, how about a salary raise instead?\n",
      "\n",
      "So next time you're on a flight, just take a moment to appreciate those flight attendants. They’re not just serving snacks; they’re keeping our spirits up—one dramatic safety demonstration at a time!\n",
      "\n",
      "---\n",
      "\n",
      "Hope that brings a smile!\n"
     ]
    }
   ],
   "source": [
    "# Run the joke with Runner.run(agent, prompt) then print final_output\n",
    "\n",
    "with trace(\"Telling a joke\"):\n",
    "    result = await Runner.run(agent, \"Tell a joke about Autonomous AI Agents\")\n",
    "    print(result.final_output)\n",
    "\n",
    "with trace(\"Telling a comedy\"):\n",
    "    result2 = await Runner.run(agent2, \"Tell a short comedy about flight attendents\")\n",
    "    print(result2.final_output)"
   ]
  },
  {
   "cell_type": "markdown",
   "metadata": {},
   "source": [
    "## Now go and look at the trace\n",
    "\n",
    "https://platform.openai.com/traces"
   ]
  }
 ],
 "metadata": {
  "kernelspec": {
   "display_name": ".venv",
   "language": "python",
   "name": "python3"
  },
  "language_info": {
   "codemirror_mode": {
    "name": "ipython",
    "version": 3
   },
   "file_extension": ".py",
   "mimetype": "text/x-python",
   "name": "python",
   "nbconvert_exporter": "python",
   "pygments_lexer": "ipython3",
   "version": "3.12.11"
  }
 },
 "nbformat": 4,
 "nbformat_minor": 2
}
