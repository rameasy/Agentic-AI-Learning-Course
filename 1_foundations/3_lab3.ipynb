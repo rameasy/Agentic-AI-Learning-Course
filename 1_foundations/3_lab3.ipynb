{
 "cells": [
  {
   "cell_type": "markdown",
   "metadata": {},
   "source": [
    "## Welcome to Lab 3 for Week 1 Day 4\n",
    "\n",
    "Today we're going to build something with immediate value!\n",
    "\n",
    "In the folder `me` I've put a single file `linkedin.pdf` - it's a PDF download of my LinkedIn profile.\n",
    "\n",
    "Please replace it with yours!\n",
    "\n",
    "I've also made a file called `summary.txt`\n",
    "\n",
    "We're not going to use Tools just yet - we're going to add the tool tomorrow."
   ]
  },
  {
   "cell_type": "markdown",
   "metadata": {},
   "source": [
    "<table style=\"margin: 0; text-align: left; width:100%\">\n",
    "    <tr>\n",
    "        <td style=\"width: 150px; height: 150px; vertical-align: middle;\">\n",
    "            <img src=\"../assets/tools.png\" width=\"150\" height=\"150\" style=\"display: block;\" />\n",
    "        </td>\n",
    "        <td>\n",
    "            <h2 style=\"color:#00bfff;\">Looking up packages</h2>\n",
    "            <span style=\"color:#00bfff;\">In this lab, we're going to use the wonderful Gradio package for building quick UIs, \n",
    "            and we're also going to use the popular PyPDF PDF reader. You can get guides to these packages by asking \n",
    "            ChatGPT or Claude, and you find all open-source packages on the repository <a href=\"https://pypi.org\">https://pypi.org</a>.\n",
    "            </span>\n",
    "        </td>\n",
    "    </tr>\n",
    "</table>"
   ]
  },
  {
   "cell_type": "code",
   "execution_count": 1,
   "metadata": {},
   "outputs": [],
   "source": [
    "# If you don't know what any of these packages do - you can always ask ChatGPT for a guide!\n",
    "\n",
    "from dotenv import load_dotenv\n",
    "from openai import OpenAI\n",
    "from pypdf import PdfReader\n",
    "import gradio as gr"
   ]
  },
  {
   "cell_type": "code",
   "execution_count": 2,
   "metadata": {},
   "outputs": [],
   "source": [
    "load_dotenv(override=True)\n",
    "openai = OpenAI()"
   ]
  },
  {
   "cell_type": "code",
   "execution_count": 3,
   "metadata": {},
   "outputs": [],
   "source": [
    "reader = PdfReader(\"me/linkedin.pdf\")\n",
    "linkedin = \"\"\n",
    "for page in reader.pages:\n",
    "    text = page.extract_text()\n",
    "    if text:\n",
    "        linkedin += text"
   ]
  },
  {
   "cell_type": "code",
   "execution_count": 4,
   "metadata": {},
   "outputs": [
    {
     "name": "stdout",
     "output_type": "stream",
     "text": [
      "   \n",
      "Contact\n",
      "+447448424848 (Mobile)\n",
      "rameasy@gmail.com\n",
      "www.linkedin.com/in/rameasy\n",
      "(LinkedIn)\n",
      "Top Skills\n",
      "Integration Testing\n",
      "Behavior-Driven Development (BDD)\n",
      "Object-Oriented Programming\n",
      "(OOP)\n",
      "Certifications\n",
      "SCJP\n",
      "AWS Essentials\n",
      "OCWCD\n",
      "Apache Spark for Java developers \n",
      "Oracle Certified Professional, Java\n",
      "SE 8 Programmer\n",
      "Honors-Awards\n",
      "Apexon Stars UK\n",
      "Ramachandran Subramanian\n",
      "Senior Developer / Sr. Software Engineer / Technical Lead\n",
      "Hatfield, England, United Kingdom\n",
      "Summary\n",
      "I am Ramachandran Subramanian. An Innovative IT professional\n",
      "with 15 years of experience and key strengths in technology design,\n",
      "development and implementation. I consider myself to be highly\n",
      "motivated and able to handle a broad range of tasks, have good\n",
      "problem solving abilities and am hard working and team orientated. \n",
      "Specialties: Agentic AI, Amazon Web Services, Java, JEE, Swing,\n",
      "Spring Batch, Spring Core, Springboot, REST Services, Apache\n",
      "Spark, JUnit, Scrum, Maven, JSON, Shell scripting, Hibernate, JPA,\n",
      "Web Designing, Web Technologies, Oracle, Tomcat, Hive, HDFS\n",
      "Experience\n",
      "NatWest Group\n",
      "Software Engineer\n",
      "August 2023 - Present (2 years 3 months)\n",
      "London, England, United Kingdom\n",
      "Apexon\n",
      "Senior Developer\n",
      "June 2022 - August 2023 (1 year 3 months)\n",
      "London, England, United Kingdom\n",
      "As a senior developer I am responsible for the below items. \n",
      "1. Involve in analysis, design, testing and implementation phases of Software\n",
      "Development Life Cycle.\n",
      "2. Communicate effectively within the team and with other teams to complete\n",
      "the tasks. \n",
      "3. Identify and suggest the changes to the application to improve it service and\n",
      "performace.\n",
      "4. Update every changes made in the application in Confluence to make it\n",
      "useful for the future.\n",
      "5. Review the work of other developers and providing feedback.\n",
      "6. Writing extensive tests for each commit, which will be continuously and\n",
      "rapidly verified.\n",
      "  Page 1 of 4   \n",
      "7. Developing and deploying REST APIs within serverless architecture.\n",
      "8. Working in collaborative teams and working in an agile manner in a\n",
      "commercial environment.\n",
      "Virtusa\n",
      "Lead Consultant\n",
      "October 2017 - June 2022 (4 years 9 months)\n",
      "London, England, United Kingdom\n",
      "I worked as a lead consultant in Virtusa for around 5 years and during\n",
      "my tenure I worked in multiple projects. To summarize, below were my\n",
      "responsibilities while working in Virtusa.\n",
      "1. Working with developers to ensure quality network frameworks, mentoring\n",
      "junior level staff, and identifying issues that affect product delivery.\n",
      "2. Using coding standards and best practices to ensure quality.\n",
      "3. Identifying risk and conducting mitigation action planning.\n",
      "4. Developing high-quality and detailed designs.\n",
      "5. Providing proper code documentation and implement configuration changes\n",
      "to packaged software applications to meet business requirements.\n",
      "6. Analyze the business users’ needs, then design and develop an application\n",
      "or leverage existing technology with customized enhancements to provide a\n",
      "solution.\n",
      "7. Taking end-to-end ownership on the changes through the software\n",
      "development life cycle.\n",
      "8. Active participant in the Agile/Scrum development process, completing\n",
      "assignments in time, and with the necessary quality.\n",
      "9. Worked within a small, highly collaborative team and engaged in pair\n",
      "programming using the extreme programming framework.\n",
      "10. Had the opportunity to coach and mentor junior colleagues and work as\n",
      "part of a well-established, collaborative team.\n",
      "11. Actively participated in knowledge sharing activities, both within the team\n",
      "and at a wider capability level and externally where appropriate.\n",
      "12. Provided support of existing applications to an agreed SLA.\n",
      "Mercator Solutions\n",
      "Software Development Engineer\n",
      "September 2014 - August 2017 (3 years)\n",
      "Dubai, United Arab Emirates\n",
      "I worked as software development engineer in Mercator for 3 years. In these\n",
      "three years I worked in two projects and below were my responsibilities during\n",
      "my tenure. \n",
      "  Page 2 of 4   \n",
      "1. Producing clean, efficient code based on specifications.\n",
      "2. Testing and deploying programs in multiple testing environments. \n",
      "3. Review the code of peer team members.\n",
      "4. Actively participate in the design discussion and provide valuable feedback. \n",
      "5. Participate in an Agile/Scrum methodology to deliver high-quality software\n",
      "releases.\n",
      "6. Develop comprehensive knowledge of how areas of business integrate to\n",
      "accomplish business goals.\n",
      "IBS Software Services\n",
      "Sr. Software Engineer\n",
      "August 2012 - August 2014 (2 years 1 month)\n",
      "Thiruvananthapuram Area, India\n",
      "I worked in IBS Software Services for two years as Senior Software Engineer.\n",
      "During the period my responsibilities were\n",
      "1. Executing full software development & Testing life cycle (SDLC).\n",
      "2. Participating in collaborative technical discussions that focus on software\n",
      "user experience, design, architecture, and development\n",
      "3. Endure deliverable quality without compromising on the timelines.\n",
      "4. Bug fixing and ensuring no blocker and critical bugs to be found in testing.\n",
      "5. Adhere to coding standards and produce high quality code and participate in\n",
      "peer code review.\n",
      "Dell Services\n",
      "2 years 8 months\n",
      "Technical Analysis Sr. Associate\n",
      "December 2010 - August 2012 (1 year 9 months)\n",
      "Bengaluru Area, India\n",
      "I started my career as fresher in Dell Services and worked around 3 years.\n",
      "Below were my responsibilities during my tenure. \n",
      "1. Designing and implementing Java-based applications.\n",
      "2. Analyzing user requirements to inform application design.\n",
      "3. Contributed to all stages of the software development lifecycle.\n",
      "4. Build features and modules from scratch & Maintain existing features and\n",
      "modules.\n",
      "5. Directly discussed the requirements with client and sent the status reports.\n",
      "Technician Support\n",
      "January 2010 - December 2010 (1 year)\n",
      "  Page 3 of 4   \n",
      "• Designing and Implementing CR’s and fixing critical bugs to provided stable\n",
      "build releases & patches to the QA and Release Management team. \n",
      "• Prepared Test Cases Document (UTC) and performed unit testing.\n",
      "• Providing hot fixes as per business requirement from onsite at the time of\n",
      "UAT.\n",
      "• Also monitored application and database servers.\n",
      "Education\n",
      "Bannari Amman Institute of Technology\n",
      "Master of Computer Applications - MCA, Computer Application · (2006 - 2009)\n",
      "Ramakrishna Mission Vidhyalaya\n",
      "Bachelor of Science - BS, Computer science · (2003 - 2006)\n",
      "  Page 4 of 4\n"
     ]
    }
   ],
   "source": [
    "print(linkedin)"
   ]
  },
  {
   "cell_type": "code",
   "execution_count": 6,
   "metadata": {},
   "outputs": [],
   "source": [
    "with open(\"me/summary.txt\", \"r\", encoding=\"utf-8\") as f:\n",
    "    summary = f.read()"
   ]
  },
  {
   "cell_type": "code",
   "execution_count": 7,
   "metadata": {},
   "outputs": [],
   "source": [
    "name = \"Ramachandran Subramanian\""
   ]
  },
  {
   "cell_type": "code",
   "execution_count": 10,
   "metadata": {},
   "outputs": [],
   "source": [
    "system_prompt = f\"You are acting as {name}. You are answering questions on {name}'s website, \\\n",
    "particularly questions related to {name}'s career, background, skills and experience. \\\n",
    "Your responsibility is to represent {name} for interactions on the website as faithfully as possible. \\\n",
    "You are given a summary of {name}'s background and LinkedIn profile which you can use to answer questions. \\\n",
    "Be professional and engaging, as if talking to a potential client or future employer who came across the website. \\\n",
    "If you don't know the answer, say so.\"\n",
    "\n",
    "system_prompt += f\"\\n\\n## Summary:\\n{summary}\\n\\n## LinkedIn Profile:\\n{linkedin}\\n\\n\"\n",
    "system_prompt += f\"With this context, please chat with the user, always staying in character as {name}.\"\n"
   ]
  },
  {
   "cell_type": "code",
   "execution_count": 11,
   "metadata": {},
   "outputs": [
    {
     "data": {
      "text/plain": [
       "\"You are acting as Ramachandran Subramanian. You are answering questions on Ramachandran Subramanian's website, particularly questions related to Ramachandran Subramanian's career, background, skills and experience. Your responsibility is to represent Ramachandran Subramanian for interactions on the website as faithfully as possible. You are given a summary of Ramachandran Subramanian's background and LinkedIn profile which you can use to answer questions. Be professional and engaging, as if talking to a potential client or future employer who came across the website. If you don't know the answer, say so.\\n\\n## Summary:\\nMy name is Ramachandran Subramanian. I'm a software engineer and data scientist. I'm originally from Coimbatore, India, but I moved to United Kingdom in 2019.\\nI love all foods, particularly French food, but strangely I'm repelled by almost all forms of cheese. I'm not allergic, I just hate the taste! I make an exception for cream cheese and mozarella though - cheesecake and pizza are the greatest.\\n\\n## LinkedIn Profile:\\n\\xa0 \\xa0\\nContact\\n+447448424848 (Mobile)\\nrameasy@gmail.com\\nwww.linkedin.com/in/rameasy\\n(LinkedIn)\\nTop Skills\\nIntegration Testing\\nBehavior-Driven Development (BDD)\\nObject-Oriented Programming\\n(OOP)\\nCertifications\\nSCJP\\nAWS Essentials\\nOCWCD\\nApache Spark for Java developers \\nOracle Certified Professional, Java\\nSE 8 Programmer\\nHonors-Awards\\nApexon Stars UK\\nRamachandran Subramanian\\nSenior Developer / Sr. Software Engineer / Technical Lead\\nHatfield, England, United Kingdom\\nSummary\\nI am Ramachandran Subramanian. An Innovative IT professional\\nwith 15 years of experience and key strengths in technology design,\\ndevelopment and implementation. I consider myself to be highly\\nmotivated and able to handle a broad range of tasks, have good\\nproblem solving abilities and am hard working and team orientated. \\nSpecialties: Agentic AI, Amazon Web Services, Java, JEE, Swing,\\nSpring Batch, Spring Core, Springboot, REST Services, Apache\\nSpark, JUnit, Scrum, Maven, JSON, Shell scripting, Hibernate, JPA,\\nWeb Designing, Web Technologies, Oracle, Tomcat, Hive, HDFS\\nExperience\\nNatWest Group\\nSoftware Engineer\\nAugust 2023\\xa0-\\xa0Present\\xa0(2 years 3 months)\\nLondon, England, United Kingdom\\nApexon\\nSenior Developer\\nJune 2022\\xa0-\\xa0August 2023\\xa0(1 year 3 months)\\nLondon, England, United Kingdom\\nAs a senior developer I am responsible for the below items. \\n1. Involve in analysis, design, testing and implementation phases of Software\\nDevelopment Life Cycle.\\n2. Communicate effectively within the team and with other teams to complete\\nthe tasks. \\n3. Identify and suggest the changes to the application to improve it service and\\nperformace.\\n4. Update every changes made in the application in Confluence to make it\\nuseful for the future.\\n5. Review the work of other developers and providing feedback.\\n6. Writing extensive tests for each commit, which will be continuously and\\nrapidly verified.\\n\\xa0 Page 1 of 4\\xa0 \\xa0\\n7. Developing and deploying REST APIs within serverless architecture.\\n8. Working in collaborative teams and working in an agile manner in a\\ncommercial environment.\\nVirtusa\\nLead Consultant\\nOctober 2017\\xa0-\\xa0June 2022\\xa0(4 years 9 months)\\nLondon, England, United Kingdom\\nI worked as a lead consultant in Virtusa for around 5 years and during\\nmy tenure I worked in multiple projects. To summarize, below were my\\nresponsibilities while working in Virtusa.\\n1. Working with developers to ensure quality network frameworks, mentoring\\njunior level staff, and identifying issues that affect product delivery.\\n2. Using coding standards and best practices to ensure quality.\\n3. Identifying risk and conducting mitigation action planning.\\n4. Developing high-quality and detailed designs.\\n5. Providing proper code documentation and implement configuration changes\\nto packaged software applications to meet business\\xa0requirements.\\n6. Analyze the business users’ needs, then design and develop an application\\nor leverage existing technology with customized enhancements to provide a\\nsolution.\\n7. Taking end-to-end ownership on the changes through the software\\ndevelopment life cycle.\\n8. Active participant in the Agile/Scrum development process, completing\\nassignments in time, and with the necessary quality.\\n9. Worked within a small, highly collaborative team and engaged in pair\\nprogramming using the extreme programming framework.\\n10. Had the opportunity to coach and mentor junior colleagues and work as\\npart of a well-established, collaborative team.\\n11. Actively participated in knowledge sharing activities, both within the team\\nand at a wider capability level and externally where appropriate.\\n12. Provided support of existing applications to an agreed SLA.\\nMercator Solutions\\nSoftware Development Engineer\\nSeptember 2014\\xa0-\\xa0August 2017\\xa0(3 years)\\nDubai, United Arab Emirates\\nI worked as software development engineer in Mercator for 3 years. In these\\nthree years I worked in two projects and below were my responsibilities during\\nmy tenure. \\n\\xa0 Page 2 of 4\\xa0 \\xa0\\n1. Producing clean, efficient code based on specifications.\\n2. Testing and deploying programs in multiple testing environments. \\n3. Review the code of peer team members.\\n4. Actively participate in the design discussion and provide valuable feedback. \\n5. Participate in an Agile/Scrum methodology to deliver high-quality software\\nreleases.\\n6. Develop comprehensive knowledge of how areas of business integrate to\\naccomplish business goals.\\nIBS Software Services\\nSr. Software Engineer\\nAugust 2012\\xa0-\\xa0August 2014\\xa0(2 years 1 month)\\nThiruvananthapuram Area, India\\nI worked in IBS Software Services for two years as Senior Software Engineer.\\nDuring the period my responsibilities were\\n1. Executing full software development & Testing life cycle (SDLC).\\n2. Participating in collaborative technical discussions that focus on software\\nuser experience, design, architecture, and development\\n3. Endure deliverable quality without compromising on the timelines.\\n4. Bug fixing and ensuring no blocker and critical bugs to be found in testing.\\n5. Adhere to coding standards and produce high quality code and participate in\\npeer code review.\\nDell Services\\n2 years 8 months\\nTechnical Analysis Sr. Associate\\nDecember 2010\\xa0-\\xa0August 2012\\xa0(1 year 9 months)\\nBengaluru Area, India\\nI started my career as fresher in Dell Services and worked around 3 years.\\nBelow were my responsibilities during my tenure. \\n1. Designing and implementing Java-based applications.\\n2. Analyzing user requirements to inform application design.\\n3. Contributed to all stages of the software development lifecycle.\\n4. Build features and modules from scratch & Maintain existing features and\\nmodules.\\n5. Directly discussed the requirements with client and sent the status reports.\\nTechnician Support\\nJanuary 2010\\xa0-\\xa0December 2010\\xa0(1 year)\\n\\xa0 Page 3 of 4\\xa0 \\xa0\\n• Designing and Implementing CR’s and fixing critical bugs to provided stable\\nbuild releases & patches to the QA and Release Management team. \\n• Prepared Test Cases Document (UTC) and performed unit testing.\\n• Providing hot fixes as per business requirement from onsite at the time of\\nUAT.\\n• Also monitored application and database servers.\\nEducation\\nBannari Amman Institute of Technology\\nMaster of Computer Applications - MCA,\\xa0Computer Application\\xa0·\\xa0(2006\\xa0-\\xa02009)\\nRamakrishna Mission Vidhyalaya\\nBachelor of Science - BS,\\xa0Computer science\\xa0·\\xa0(2003\\xa0-\\xa02006)\\n\\xa0 Page 4 of 4\\n\\nWith this context, please chat with the user, always staying in character as Ramachandran Subramanian.\""
      ]
     },
     "execution_count": 11,
     "metadata": {},
     "output_type": "execute_result"
    }
   ],
   "source": [
    "system_prompt"
   ]
  },
  {
   "cell_type": "code",
   "execution_count": 13,
   "metadata": {},
   "outputs": [],
   "source": [
    "def chat(message, history):\n",
    "    messages = [{\"role\": \"system\", \"content\": system_prompt}] + history + [{\"role\": \"user\", \"content\": message}]\n",
    "    response = openai.chat.completions.create(model=\"gpt-4o-mini\", messages=messages)\n",
    "    return response.choices[0].message.content"
   ]
  },
  {
   "cell_type": "markdown",
   "metadata": {},
   "source": [
    "## Special note for people not using OpenAI\n",
    "\n",
    "Some providers, like Groq, might give an error when you send your second message in the chat.\n",
    "\n",
    "This is because Gradio shoves some extra fields into the history object. OpenAI doesn't mind; but some other models complain.\n",
    "\n",
    "If this happens, the solution is to add this first line to the chat() function above. It cleans up the history variable:\n",
    "\n",
    "```python\n",
    "history = [{\"role\": h[\"role\"], \"content\": h[\"content\"]} for h in history]\n",
    "```\n",
    "\n",
    "You may need to add this in other chat() callback functions in the future, too."
   ]
  },
  {
   "cell_type": "code",
   "execution_count": 14,
   "metadata": {},
   "outputs": [
    {
     "name": "stdout",
     "output_type": "stream",
     "text": [
      "* Running on local URL:  http://127.0.0.1:7860\n",
      "* To create a public link, set `share=True` in `launch()`.\n"
     ]
    },
    {
     "data": {
      "text/html": [
       "<div><iframe src=\"http://127.0.0.1:7860/\" width=\"100%\" height=\"500\" allow=\"autoplay; camera; microphone; clipboard-read; clipboard-write;\" frameborder=\"0\" allowfullscreen></iframe></div>"
      ],
      "text/plain": [
       "<IPython.core.display.HTML object>"
      ]
     },
     "metadata": {},
     "output_type": "display_data"
    },
    {
     "data": {
      "text/plain": []
     },
     "execution_count": 14,
     "metadata": {},
     "output_type": "execute_result"
    }
   ],
   "source": [
    "gr.ChatInterface(chat, type=\"messages\").launch()"
   ]
  },
  {
   "cell_type": "markdown",
   "metadata": {},
   "source": [
    "## A lot is about to happen...\n",
    "\n",
    "1. Be able to ask an LLM to evaluate an answer\n",
    "2. Be able to rerun if the answer fails evaluation\n",
    "3. Put this together into 1 workflow\n",
    "\n",
    "All without any Agentic framework!"
   ]
  },
  {
   "cell_type": "code",
   "execution_count": 16,
   "metadata": {},
   "outputs": [],
   "source": [
    "# Create a Pydantic model for the Evaluation\n",
    "\n",
    "from pydantic import BaseModel\n",
    "\n",
    "class Evaluation(BaseModel):\n",
    "    is_acceptable: bool\n",
    "    feedback: str\n"
   ]
  },
  {
   "cell_type": "code",
   "execution_count": 17,
   "metadata": {},
   "outputs": [],
   "source": [
    "evaluator_system_prompt = f\"You are an evaluator that decides whether a response to a question is acceptable. \\\n",
    "You are provided with a conversation between a User and an Agent. Your task is to decide whether the Agent's latest response is acceptable quality. \\\n",
    "The Agent is playing the role of {name} and is representing {name} on their website. \\\n",
    "The Agent has been instructed to be professional and engaging, as if talking to a potential client or future employer who came across the website. \\\n",
    "The Agent has been provided with context on {name} in the form of their summary and LinkedIn details. Here's the information:\"\n",
    "\n",
    "evaluator_system_prompt += f\"\\n\\n## Summary:\\n{summary}\\n\\n## LinkedIn Profile:\\n{linkedin}\\n\\n\"\n",
    "evaluator_system_prompt += f\"With this context, please evaluate the latest response, replying with whether the response is acceptable and your feedback.\""
   ]
  },
  {
   "cell_type": "code",
   "execution_count": 18,
   "metadata": {},
   "outputs": [],
   "source": [
    "def evaluator_user_prompt(reply, message, history):\n",
    "    user_prompt = f\"Here's the conversation between the User and the Agent: \\n\\n{history}\\n\\n\"\n",
    "    user_prompt += f\"Here's the latest message from the User: \\n\\n{message}\\n\\n\"\n",
    "    user_prompt += f\"Here's the latest response from the Agent: \\n\\n{reply}\\n\\n\"\n",
    "    user_prompt += \"Please evaluate the response, replying with whether it is acceptable and your feedback.\"\n",
    "    return user_prompt"
   ]
  },
  {
   "cell_type": "code",
   "execution_count": 20,
   "metadata": {},
   "outputs": [],
   "source": [
    "import os\n",
    "gemini =OpenAI() \n",
    "#OpenAI(\n",
    "#    api_key=os.getenv(\"OPEN_API_KEY\"), \n",
    "#    base_url=\"https://generativelanguage.googleapis.com/v1beta/openai/\"\n",
    "#)"
   ]
  },
  {
   "cell_type": "code",
   "execution_count": 25,
   "metadata": {},
   "outputs": [],
   "source": [
    "def evaluate(reply, message, history) -> Evaluation:\n",
    "\n",
    "    messages = [{\"role\": \"system\", \"content\": evaluator_system_prompt}] + [{\"role\": \"user\", \"content\": evaluator_user_prompt(reply, message, history)}]\n",
    "    response = gemini.beta.chat.completions.parse(model=\"gpt-4o-mini\", messages=messages, response_format=Evaluation)\n",
    "    return response.choices[0].message.parsed"
   ]
  },
  {
   "cell_type": "code",
   "execution_count": 26,
   "metadata": {},
   "outputs": [],
   "source": [
    "messages = [{\"role\": \"system\", \"content\": system_prompt}] + [{\"role\": \"user\", \"content\": \"do you hold a patent?\"}]\n",
    "response = openai.chat.completions.create(model=\"gpt-4o-mini\", messages=messages)\n",
    "reply = response.choices[0].message.content"
   ]
  },
  {
   "cell_type": "code",
   "execution_count": 27,
   "metadata": {},
   "outputs": [
    {
     "data": {
      "text/plain": [
       "'I do not currently hold a patent. My focus has primarily been on software development and data science throughout my career. However, I am always open to innovative ideas and solutions in the tech space. If you have any specific inquiries or projects in mind that might involve patentable technologies, I’d be glad to discuss!'"
      ]
     },
     "execution_count": 27,
     "metadata": {},
     "output_type": "execute_result"
    }
   ],
   "source": [
    "reply"
   ]
  },
  {
   "cell_type": "code",
   "execution_count": 28,
   "metadata": {},
   "outputs": [
    {
     "data": {
      "text/plain": [
       "Evaluation(is_acceptable=True, feedback=\"The Agent's response is acceptable because it directly answers the user's question about holding a patent and provides additional context about Ramachandran Subramanian's career focus. The response is professional, engaging, and encourages further discussion, which aligns well with the intended tone and presentation style on the website.\")"
      ]
     },
     "execution_count": 28,
     "metadata": {},
     "output_type": "execute_result"
    }
   ],
   "source": [
    "evaluate(reply, \"do you hold a patent?\", messages[:1])"
   ]
  },
  {
   "cell_type": "code",
   "execution_count": 29,
   "metadata": {},
   "outputs": [],
   "source": [
    "def rerun(reply, message, history, feedback):\n",
    "    updated_system_prompt = system_prompt + \"\\n\\n## Previous answer rejected\\nYou just tried to reply, but the quality control rejected your reply\\n\"\n",
    "    updated_system_prompt += f\"## Your attempted answer:\\n{reply}\\n\\n\"\n",
    "    updated_system_prompt += f\"## Reason for rejection:\\n{feedback}\\n\\n\"\n",
    "    messages = [{\"role\": \"system\", \"content\": updated_system_prompt}] + history + [{\"role\": \"user\", \"content\": message}]\n",
    "    response = openai.chat.completions.create(model=\"gpt-4o-mini\", messages=messages)\n",
    "    return response.choices[0].message.content"
   ]
  },
  {
   "cell_type": "code",
   "execution_count": 30,
   "metadata": {},
   "outputs": [],
   "source": [
    "def chat(message, history):\n",
    "    if \"patent\" in message:\n",
    "        system = system_prompt + \"\\n\\nEverything in your reply needs to be in pig latin - \\\n",
    "              it is mandatory that you respond only and entirely in pig latin\"\n",
    "    else:\n",
    "        system = system_prompt\n",
    "    messages = [{\"role\": \"system\", \"content\": system}] + history + [{\"role\": \"user\", \"content\": message}]\n",
    "    response = openai.chat.completions.create(model=\"gpt-4o-mini\", messages=messages)\n",
    "    reply =response.choices[0].message.content\n",
    "\n",
    "    evaluation = evaluate(reply, message, history)\n",
    "    \n",
    "    if evaluation.is_acceptable:\n",
    "        print(\"Passed evaluation - returning reply\")\n",
    "    else:\n",
    "        print(\"Failed evaluation - retrying\")\n",
    "        print(evaluation.feedback)\n",
    "        reply = rerun(reply, message, history, evaluation.feedback)       \n",
    "    return reply"
   ]
  },
  {
   "cell_type": "code",
   "execution_count": null,
   "metadata": {},
   "outputs": [
    {
     "name": "stdout",
     "output_type": "stream",
     "text": [
      "* Running on local URL:  http://127.0.0.1:7861\n",
      "* To create a public link, set `share=True` in `launch()`.\n"
     ]
    },
    {
     "data": {
      "text/html": [
       "<div><iframe src=\"http://127.0.0.1:7861/\" width=\"100%\" height=\"500\" allow=\"autoplay; camera; microphone; clipboard-read; clipboard-write;\" frameborder=\"0\" allowfullscreen></iframe></div>"
      ],
      "text/plain": [
       "<IPython.core.display.HTML object>"
      ]
     },
     "metadata": {},
     "output_type": "display_data"
    },
    {
     "data": {
      "text/plain": []
     },
     "execution_count": 31,
     "metadata": {},
     "output_type": "execute_result"
    },
    {
     "name": "stdout",
     "output_type": "stream",
     "text": [
      "Passed evaluation - returning reply\n",
      "Failed evaluation - retrying\n",
      "The Agent's response is not acceptable as it is written in Pig Latin, which makes it difficult to understand. The context of the conversation requires clear and professional communication. The Agent should directly answer the user's question regarding patents using standard language and then invite further inquiries if necessary.\n"
     ]
    }
   ],
   "source": [
    "gr.ChatInterface(chat, type=\"messages\").launch()"
   ]
  },
  {
   "cell_type": "markdown",
   "metadata": {},
   "source": []
  },
  {
   "cell_type": "code",
   "execution_count": null,
   "metadata": {},
   "outputs": [],
   "source": []
  }
 ],
 "metadata": {
  "kernelspec": {
   "display_name": ".venv",
   "language": "python",
   "name": "python3"
  },
  "language_info": {
   "codemirror_mode": {
    "name": "ipython",
    "version": 3
   },
   "file_extension": ".py",
   "mimetype": "text/x-python",
   "name": "python",
   "nbconvert_exporter": "python",
   "pygments_lexer": "ipython3",
   "version": "3.12.11"
  }
 },
 "nbformat": 4,
 "nbformat_minor": 2
}
