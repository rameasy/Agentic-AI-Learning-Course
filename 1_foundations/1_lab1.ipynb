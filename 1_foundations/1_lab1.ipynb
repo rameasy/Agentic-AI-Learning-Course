{
 "cells": [
  {
   "cell_type": "markdown",
   "metadata": {},
   "source": [
    "# Welcome to the start of your adventure in Agentic AI"
   ]
  },
  {
   "cell_type": "markdown",
   "metadata": {},
   "source": [
    "<table style=\"margin: 0; text-align: left; width:100%\">\n",
    "    <tr>\n",
    "        <td style=\"width: 150px; height: 150px; vertical-align: middle;\">\n",
    "            <img src=\"../assets/stop.png\" width=\"150\" height=\"150\" style=\"display: block;\" />\n",
    "        </td>\n",
    "        <td>\n",
    "            <h2 style=\"color:#ff7800;\">Are you ready for action??</h2>\n",
    "            <span style=\"color:#ff7800;\">Have you completed all the setup steps in the <a href=\"../setup/\">setup</a> folder?<br/>\n",
    "            Have you read the <a href=\"../README.md\">README</a>? Many common questions are answered here!<br/>\n",
    "            Have you checked out the guides in the <a href=\"../guides/01_intro.ipynb\">guides</a> folder?<br/>\n",
    "            Well in that case, you're ready!!\n",
    "            </span>\n",
    "        </td>\n",
    "    </tr>\n",
    "</table>"
   ]
  },
  {
   "cell_type": "markdown",
   "metadata": {},
   "source": [
    "<table style=\"margin: 0; text-align: left; width:100%\">\n",
    "    <tr>\n",
    "        <td style=\"width: 150px; height: 150px; vertical-align: middle;\">\n",
    "            <img src=\"../assets/tools.png\" width=\"150\" height=\"150\" style=\"display: block;\" />\n",
    "        </td>\n",
    "        <td>\n",
    "            <h2 style=\"color:#00bfff;\">This code is a live resource - keep an eye out for my updates</h2>\n",
    "            <span style=\"color:#00bfff;\">I push updates regularly. As people ask questions or have problems, I add more examples and improve explanations. As a result, the code below might not be identical to the videos, as I've added more steps and better comments. Consider this like an interactive book that accompanies the lectures.<br/><br/>\n",
    "            I try to send emails regularly with important updates related to the course. You can find this in the 'Announcements' section of Udemy in the left sidebar. You can also choose to receive my emails via your Notification Settings in Udemy. I'm respectful of your inbox and always try to add value with my emails!\n",
    "            </span>\n",
    "        </td>\n",
    "    </tr>\n",
    "</table>"
   ]
  },
  {
   "cell_type": "markdown",
   "metadata": {},
   "source": [
    "### And please do remember to contact me if I can help\n",
    "\n",
    "And I love to connect: https://www.linkedin.com/in/eddonner/\n",
    "\n",
    "\n",
    "### New to Notebooks like this one? Head over to the guides folder!\n",
    "\n",
    "Just to check you've already added the Python and Jupyter extensions to Cursor, if not already installed:\n",
    "- Open extensions (View >> extensions)\n",
    "- Search for python, and when the results show, click on the ms-python one, and Install it if not already installed\n",
    "- Search for jupyter, and when the results show, click on the Microsoft one, and Install it if not already installed  \n",
    "Then View >> Explorer to bring back the File Explorer.\n",
    "\n",
    "And then:\n",
    "1. Click where it says \"Select Kernel\" near the top right, and select the option called `.venv (Python 3.12.9)` or similar, which should be the first choice or the most prominent choice. You may need to choose \"Python Environments\" first.\n",
    "2. Click in each \"cell\" below, starting with the cell immediately below this text, and press Shift+Enter to run\n",
    "3. Enjoy!\n",
    "\n",
    "After you click \"Select Kernel\", if there is no option like `.venv (Python 3.12.9)` then please do the following:  \n",
    "1. On Mac: From the Cursor menu, choose Settings >> VS Code Settings (NOTE: be sure to select `VSCode Settings` not `Cursor Settings`);  \n",
    "On Windows PC: From the File menu, choose Preferences >> VS Code Settings(NOTE: be sure to select `VSCode Settings` not `Cursor Settings`)  \n",
    "2. In the Settings search bar, type \"venv\"  \n",
    "3. In the field \"Path to folder with a list of Virtual Environments\" put the path to the project root, like C:\\Users\\username\\projects\\agents (on a Windows PC) or /Users/username/projects/agents (on Mac or Linux).  \n",
    "And then try again.\n",
    "\n",
    "Having problems with missing Python versions in that list? Have you ever used Anaconda before? It might be interferring. Quit Cursor, bring up a new command line, and make sure that your Anaconda environment is deactivated:    \n",
    "`conda deactivate`  \n",
    "And if you still have any problems with conda and python versions, it's possible that you will need to run this too:  \n",
    "`conda config --set auto_activate_base false`  \n",
    "and then from within the Agents directory, you should be able to run `uv python list` and see the Python 3.12 version."
   ]
  },
  {
   "cell_type": "code",
   "execution_count": null,
   "metadata": {},
   "outputs": [],
   "source": [
    "# First let's do an import. If you get an Import Error, double check that your Kernel is correct..\n",
    "\n",
    "from dotenv import load_dotenv\n"
   ]
  },
  {
   "cell_type": "code",
   "execution_count": 2,
   "metadata": {},
   "outputs": [
    {
     "data": {
      "text/plain": [
       "True"
      ]
     },
     "execution_count": 2,
     "metadata": {},
     "output_type": "execute_result"
    }
   ],
   "source": [
    "# Next it's time to load the API keys into environment variables\n",
    "# If this returns false, see the next cell!\n",
    "\n",
    "load_dotenv(override=True)"
   ]
  },
  {
   "cell_type": "markdown",
   "metadata": {},
   "source": [
    "### Wait, did that just output `False`??\n",
    "\n",
    "If so, the most common reason is that you didn't save your `.env` file after adding the key! Be sure to have saved.\n",
    "\n",
    "Also, make sure the `.env` file is named precisely `.env` and is in the project root directory (`agents`)\n",
    "\n",
    "By the way, your `.env` file should have a stop symbol next to it in Cursor on the left, and that's actually a good thing: that's Cursor saying to you, \"hey, I realize this is a file filled with secret information, and I'm not going to send it to an external AI to suggest changes, because your keys should not be shown to anyone else.\""
   ]
  },
  {
   "cell_type": "markdown",
   "metadata": {},
   "source": [
    "<table style=\"margin: 0; text-align: left; width:100%\">\n",
    "    <tr>\n",
    "        <td style=\"width: 150px; height: 150px; vertical-align: middle;\">\n",
    "            <img src=\"../assets/stop.png\" width=\"150\" height=\"150\" style=\"display: block;\" />\n",
    "        </td>\n",
    "        <td>\n",
    "            <h2 style=\"color:#ff7800;\">Final reminders</h2>\n",
    "            <span style=\"color:#ff7800;\">1. If you're not confident about Environment Variables or Web Endpoints / APIs, please read Topics 3 and 5 in this <a href=\"../guides/04_technical_foundations.ipynb\">technical foundations guide</a>.<br/>\n",
    "            2. If you want to use AIs other than OpenAI, like Gemini, DeepSeek or Ollama (free), please see the first section in this <a href=\"../guides/09_ai_apis_and_ollama.ipynb\">AI APIs guide</a>.<br/>\n",
    "            3. If you ever get a Name Error in Python, you can always fix it immediately; see the last section of this <a href=\"../guides/06_python_foundations.ipynb\">Python Foundations guide</a> and follow both tutorials and exercises.<br/>\n",
    "            </span>\n",
    "        </td>\n",
    "    </tr>\n",
    "</table>"
   ]
  },
  {
   "cell_type": "code",
   "execution_count": 3,
   "metadata": {},
   "outputs": [
    {
     "name": "stdout",
     "output_type": "stream",
     "text": [
      "OpenAI API Key exists and begins sk-proj-\n"
     ]
    }
   ],
   "source": [
    "# Check the key - if you're not using OpenAI, check whichever key you're using! Ollama doesn't need a key.\n",
    "\n",
    "import os\n",
    "openai_api_key = os.getenv('OPENAI_API_KEY')\n",
    "\n",
    "if openai_api_key:\n",
    "    print(f\"OpenAI API Key exists and begins {openai_api_key[:8]}\")\n",
    "else:\n",
    "    print(\"OpenAI API Key not set - please head to the troubleshooting guide in the setup folder\")\n",
    "    \n"
   ]
  },
  {
   "cell_type": "code",
   "execution_count": 4,
   "metadata": {},
   "outputs": [],
   "source": [
    "# And now - the all important import statement\n",
    "# If you get an import error - head over to troubleshooting in the Setup folder\n",
    "# Even for other LLM providers like Gemini, you still use this OpenAI import - see Guide 9 for why\n",
    "\n",
    "from openai import OpenAI"
   ]
  },
  {
   "cell_type": "code",
   "execution_count": 5,
   "metadata": {},
   "outputs": [],
   "source": [
    "# And now we'll create an instance of the OpenAI class\n",
    "# If you're not sure what it means to create an instance of a class - head over to the guides folder (guide 6)!\n",
    "# If you get a NameError - head over to the guides folder (guide 6)to learn about NameErrors - always instantly fixable\n",
    "# If you're not using OpenAI, you just need to slightly modify this - precise instructions are in the AI APIs guide (guide 9)\n",
    "\n",
    "openai = OpenAI()"
   ]
  },
  {
   "cell_type": "code",
   "execution_count": 8,
   "metadata": {},
   "outputs": [],
   "source": [
    "# Create a list of messages in the familiar OpenAI format\n",
    "\n",
    "messages = [{\"role\": \"user\", \"content\": \"What is capital of Artic?\"}]"
   ]
  },
  {
   "cell_type": "code",
   "execution_count": 9,
   "metadata": {},
   "outputs": [
    {
     "name": "stdout",
     "output_type": "stream",
     "text": [
      "The Arctic is a polar region rather than a country, so it doesn't have a capital. However, if you're referring to a specific country within the Arctic region, such as Norway, which has territories in the Arctic, the capital of Norway is Oslo. If you have a particular Arctic country or area in mind, please specify.\n"
     ]
    }
   ],
   "source": [
    "# And now call it! Any problems, head to the troubleshooting guide\n",
    "# This uses GPT 4.1 nano, the incredibly cheap model\n",
    "# The APIs guide (guide 9) has exact instructions for using even cheaper or free alternatives to OpenAI\n",
    "# If you get a NameError, head to the guides folder (guide 6) to learn about NameErrors - always instantly fixable\n",
    "\n",
    "response = openai.chat.completions.create(\n",
    "    model=\"gpt-4.1-nano\",\n",
    "    messages=messages\n",
    ")\n",
    "\n",
    "print(response.choices[0].message.content)\n"
   ]
  },
  {
   "cell_type": "code",
   "execution_count": 10,
   "metadata": {},
   "outputs": [],
   "source": [
    "# And now - let's ask for a question:\n",
    "\n",
    "question = \"Please propose a hard, challenging question to assess someone's IQ. Respond only with the question.\"\n",
    "messages = [{\"role\": \"user\", \"content\": question}]\n"
   ]
  },
  {
   "cell_type": "code",
   "execution_count": 11,
   "metadata": {},
   "outputs": [
    {
     "name": "stdout",
     "output_type": "stream",
     "text": [
      "A bat and a ball cost $1.10 in total. The bat costs $1.00 more than the ball. How much does the ball cost?\n"
     ]
    }
   ],
   "source": [
    "# ask it - this uses GPT 4.1 mini, still cheap but more powerful than nano\n",
    "\n",
    "response = openai.chat.completions.create(\n",
    "    model=\"gpt-4.1-mini\",\n",
    "    messages=messages\n",
    ")\n",
    "\n",
    "question = response.choices[0].message.content\n",
    "\n",
    "print(question)\n"
   ]
  },
  {
   "cell_type": "code",
   "execution_count": 12,
   "metadata": {},
   "outputs": [],
   "source": [
    "# form a new messages list\n",
    "messages = [{\"role\": \"user\", \"content\": question}]\n"
   ]
  },
  {
   "cell_type": "code",
   "execution_count": null,
   "metadata": {},
   "outputs": [
    {
     "name": "stdout",
     "output_type": "stream",
     "text": [
      "Let's define the cost of the ball as \\( x \\).\n",
      "\n",
      "Given:\n",
      "- The bat costs $1.00 more than the ball, so the bat costs \\( x + 1.00 \\).\n",
      "- Together, the bat and the ball cost $1.10.\n",
      "\n",
      "Set up the equation:\n",
      "\\[\n",
      "x + (x + 1.00) = 1.10\n",
      "\\]\n",
      "\n",
      "Simplify:\n",
      "\\[\n",
      "2x + 1.00 = 1.10\n",
      "\\]\n",
      "\n",
      "Subtract 1.00 from both sides:\n",
      "\\[\n",
      "2x = 0.10\n",
      "\\]\n",
      "\n",
      "Divide both sides by 2:\n",
      "\\[\n",
      "x = 0.05\n",
      "\\]\n",
      "\n",
      "**Answer:** The ball costs \\$0.05.\n"
     ]
    }
   ],
   "source": [
    "# Ask it again\n",
    "\n",
    "response = openai.chat.completions.create(\n",
    "    model=\"gpt-4.1-mini\",\n",
    "    messages=messages\n",
    ")\n",
    "\n",
    "answer = response.choices[0].message.content\n",
    "print(answer)\n"
   ]
  },
  {
   "cell_type": "code",
   "execution_count": 14,
   "metadata": {},
   "outputs": [
    {
     "data": {
      "text/markdown": [
       "Let's define the cost of the ball as \\( x \\).\n",
       "\n",
       "Given:\n",
       "- The bat costs $1.00 more than the ball, so the bat costs \\( x + 1.00 \\).\n",
       "- Together, the bat and the ball cost $1.10.\n",
       "\n",
       "Set up the equation:\n",
       "\\[\n",
       "x + (x + 1.00) = 1.10\n",
       "\\]\n",
       "\n",
       "Simplify:\n",
       "\\[\n",
       "2x + 1.00 = 1.10\n",
       "\\]\n",
       "\n",
       "Subtract 1.00 from both sides:\n",
       "\\[\n",
       "2x = 0.10\n",
       "\\]\n",
       "\n",
       "Divide both sides by 2:\n",
       "\\[\n",
       "x = 0.05\n",
       "\\]\n",
       "\n",
       "**Answer:** The ball costs \\$0.05."
      ],
      "text/plain": [
       "<IPython.core.display.Markdown object>"
      ]
     },
     "metadata": {},
     "output_type": "display_data"
    }
   ],
   "source": [
    "from IPython.display import Markdown, display\n",
    "\n",
    "display(Markdown(answer))\n",
    "\n"
   ]
  },
  {
   "cell_type": "markdown",
   "metadata": {},
   "source": [
    "# Congratulations!\n",
    "\n",
    "That was a small, simple step in the direction of Agentic AI, with your new environment!\n",
    "\n",
    "Next time things get more interesting..."
   ]
  },
  {
   "cell_type": "markdown",
   "metadata": {},
   "source": [
    "<table style=\"margin: 0; text-align: left; width:100%\">\n",
    "    <tr>\n",
    "        <td style=\"width: 150px; height: 150px; vertical-align: middle;\">\n",
    "            <img src=\"../assets/exercise.png\" width=\"150\" height=\"150\" style=\"display: block;\" />\n",
    "        </td>\n",
    "        <td>\n",
    "            <h2 style=\"color:#ff7800;\">Exercise</h2>\n",
    "            <span style=\"color:#ff7800;\">Now try this commercial application:<br/>\n",
    "            First ask the LLM to pick a business area that might be worth exploring for an Agentic AI opportunity.<br/>\n",
    "            Then ask the LLM to present a pain-point in that industry - something challenging that might be ripe for an Agentic solution.<br/>\n",
    "            Finally have 3 third LLM call propose the Agentic AI solution. <br/>\n",
    "            We will cover this at up-coming labs, so don't worry if you're unsure.. just give it a try!\n",
    "            </span>\n",
    "        </td>\n",
    "    </tr>\n",
    "</table>"
   ]
  },
  {
   "cell_type": "code",
   "execution_count": 16,
   "metadata": {},
   "outputs": [
    {
     "name": "stdout",
     "output_type": "stream",
     "text": [
      "One promising business area to explore for an agentic AI opportunity is **personalized healthcare management**.\n",
      "\n",
      "### Why Personalized Healthcare Management?\n",
      "- **Complex decision-making:** Managing chronic diseases, medication schedules, lifestyle adjustments, and regular monitoring requires continuous, adaptive decision-making.\n",
      "- **Data-rich environment:** Wearable devices, electronic health records, genetic data, and patient-reported outcomes provide abundant input for AI agents.\n",
      "- **High impact:** Improved management can lead to better patient outcomes, reduced hospitalizations, and lower healthcare costs.\n",
      "- **Growing market:** Aging populations and increasing prevalence of chronic conditions create expanding demand.\n",
      "\n",
      "### How Agentic AI Fits\n",
      "An agentic AI in this domain could:\n",
      "- Continuously monitor patient data and detect early warning signs.\n",
      "- Make autonomous decisions or recommendations for medication adjustments or lifestyle changes, aligned with medical guidelines.\n",
      "- Coordinate with healthcare providers and caregivers proactively.\n",
      "- Personalize health plans dynamically based on evolving patient data.\n",
      "- Provide motivation and behavioral nudges to improve adherence.\n",
      "\n",
      "### Potential Business Models\n",
      "- Subscription-based personalized AI health coaching.\n",
      "- Partnerships with healthcare providers and insurance companies.\n",
      "- Licensing AI tools to clinics for remote patient monitoring.\n",
      "\n",
      "---\n",
      "\n",
      "If you want, I can help develop a more detailed concept or explore other sectors!\n",
      "Certainly! Here’s a key pain point within **personalized healthcare management** that an agentic AI solution could uniquely address:\n",
      "\n",
      "---\n",
      "\n",
      "### Pain Point: Medication Non-Adherence in Chronic Disease Management\n",
      "\n",
      "**What is the problem?**  \n",
      "Medication non-adherence is a pervasive and costly problem, especially for patients managing chronic diseases such as diabetes, hypertension, or heart failure. Studies estimate that nearly 50% of patients do not take their medications as prescribed. This leads to worsening health conditions, increased hospital admissions, and significant healthcare costs—estimated at hundreds of billions annually in some countries.\n",
      "\n",
      "**Why is it so challenging?**  \n",
      "- **Complex regimens:** Patients often juggle multiple medications with varying schedules, doses, and conditions (e.g., take with food, avoid certain activities).  \n",
      "- **Cognitive and behavioral factors:** Forgetfulness, side effects, misunderstanding of instructions, or lack of perceived benefit reduce adherence.  \n",
      "- **Dynamic patient context:** Changes in health status, lifestyle, or environment are not always accounted for in static treatment plans.  \n",
      "- **Limited real-time feedback:** Healthcare providers often learn about non-adherence only at follow-ups or after adverse events.\n",
      "\n",
      "**Agentic AI Opportunity**  \n",
      "An agentic AI could continuously monitor real-time patient data (e.g., from wearables, smart pill bottles, self-reports), detect patterns indicating declining adherence or risks, and intervene proactively by:  \n",
      "- Sending personalized reminders and motivational nudges tailored to patient habits and preferences.  \n",
      "- Suggesting modifications in medication timing or methods (in alignment with medical guidance) to improve tolerability or convenience.  \n",
      "- Alerting healthcare providers when intervention is needed before serious complications arise.  \n",
      "- Coordinating across caregivers, pharmacies, and clinicians to ensure consistent support.\n",
      "\n",
      "**Impact**  \n",
      "Successfully addressing medication non-adherence can drastically improve patient outcomes, reduce preventable hospitalizations, and cut costs—making this a high-value, high-impact problem for agentic AI-driven personalized healthcare.\n",
      "\n",
      "---\n",
      "\n",
      "Would you like me to help structure a business model or prototype for an agentic AI targeting this pain point?\n",
      "Certainly! Here's a detailed agentic AI solution framework specifically targeting **medication non-adherence in chronic disease management**:\n",
      "\n",
      "---\n",
      "\n",
      "## Agentic AI Solution: MedAdhere™ – Proactive Medication Adherence Manager\n",
      "\n",
      "### 1. Core Capabilities\n",
      "\n",
      "**a. Continuous Multi-Modal Data Integration**  \n",
      "- Collects data streams from:  \n",
      "  - Wearables (heart rate, activity, sleep, etc.)  \n",
      "  - Smart pill bottles or dispensers (real-time medication intake)  \n",
      "  - Patient self-reports via mobile app (side effects, mood, symptoms)  \n",
      "  - Electronic Health Records (EHR) integrations (prescriptions, dose adjustments, lab values)  \n",
      "  - Environmental/context data (location, routines)\n",
      "\n",
      "**b. Personalized Predictive Modeling**  \n",
      "- Leverages machine learning to model individual medication-taking behaviors and predict risk windows for non-adherence or adverse events.  \n",
      "- Adapts to changes in patient's lifestyle, health status, and feedback for continuous personalization.\n",
      "\n",
      "**c. Autonomous Intervention Engine**  \n",
      "- Sends personalized reminders that align with patient habits, preferred communication channels, and optimal timing to maximize engagement.  \n",
      "- Crafts motivational messages using behavioral nudging, gamification elements, or educational content tailored to patient’s knowledge gaps and motivations.  \n",
      "- Suggests medication timing adjustments when clinically appropriate and approved by clinicians (e.g., “Take medication X with dinner instead of breakfast to reduce dizziness”).\n",
      "\n",
      "**d. Collaborative Care Coordination**  \n",
      "- Automatically alerts healthcare providers when patterns predict risk (e.g., declining adherence, side effects reported).  \n",
      "- Enables secure messaging between patient, caregivers, and clinicians to address barriers in real time.  \n",
      "- Interfaces with pharmacies to ensure medication refill and availability.\n",
      "\n",
      "---\n",
      "\n",
      "### 2. Workflow Example\n",
      "\n",
      "1. **Onboarding:** Patient installs MedAdhere™, syncs wearables and smart devices, inputs medications, and consents to data use.  \n",
      "2. **Monitoring:** AI continuously analyzes data, identifies non-adherence risk patterns (e.g., missed doses after weekend disruption).  \n",
      "3. **Intervention:** The AI sends a personalized reminder via preferred channel (SMS, app notification, voice assistant) just before typical missed dose time. If a side effect is self-reported, it suggests practical tips or flags provider.  \n",
      "4. **Escalation:** If multiple doses missed or side effects reported, an alert is sent to the provider with a summary for review before next scheduled appointment.  \n",
      "5. **Adaptive Learning:** The AI updates its model based on effectiveness of interventions and patient feedback.  \n",
      "\n",
      "---\n",
      "\n",
      "### 3. Technology Stack Suggestions\n",
      "\n",
      "- **Data ingestion:** APIs for wearables (Apple HealthKit, Google Fit), smart pill devices, EHR (FHIR standards)  \n",
      "- **AI models:** Time-series behavior prediction, NLP for message tailoring, reinforcement learning for intervention optimization  \n",
      "- **Interface:** Mobile app, voice assistant integration, provider web dashboard  \n",
      "- **Security:** HIPAA-compliant cloud infrastructure, end-to-end encryption for communication\n",
      "\n",
      "---\n",
      "\n",
      "### 4. Business Model\n",
      "\n",
      "- **B2B SaaS:** License platform to healthcare providers, payers, or pharmacies as part of chronic disease management programs  \n",
      "- **Patient Subscription:** Direct-to-consumer tier offering personalized adherence coaching  \n",
      "- **Data Insights:** Aggregated (de-identified) adherence analytics sold to pharmaceutical companies for drug adherence research\n",
      "\n",
      "---\n",
      "\n",
      "### 5. Potential Challenges & Mitigations\n",
      "\n",
      "- **Privacy concerns:** Robust consent management, transparent data policies, and opt-in features  \n",
      "- **Behavioral fatigue:** Adaptive communication strategies to avoid over-notifying and respecting patient preferences  \n",
      "- **Clinical integration:** Close collaboration with healthcare systems to align AI suggestions with provider protocols\n",
      "\n",
      "---\n",
      "\n",
      "Would you like assistance in drafting a detailed prototype specification, user journey maps, or go-to-market strategy for this agentic AI solution?\n"
     ]
    }
   ],
   "source": [
    "# First create the messages:\n",
    "\n",
    "messages = [{\"role\": \"user\", \"content\": \"Pick up a business area that might be worth exploring for an agentic AI opportunity\"}]\n",
    "\n",
    "# Then make the first call:\n",
    "\n",
    "response = openai.chat.completions.create(\n",
    "    model=\"gpt-4.1-mini\",\n",
    "    messages=messages\n",
    ")\n",
    "\n",
    "\n",
    "# Then read the business idea:\n",
    "\n",
    "business_idea = response.choices[0].message.content\n",
    "print(business_idea)\n",
    "\n",
    "messages1 = [{\"role\": \"user\", \"content\": \"Present a pain point in the \" + business_idea +\" Something challenging that might be a ripe for the agentic ai solution\"}]\n",
    "\n",
    "response1 = openai.chat.completions.create(\n",
    "    model=\"gpt-4.1-mini\",\n",
    "    messages=messages1\n",
    ")\n",
    "\n",
    "pain_point = response1.choices[0].message.content\n",
    "print(pain_point)\n",
    "# And repeat! In the next message, include the business idea within the message\n",
    "\n",
    "messages2 = [{\"role\": \"user\", \"content\": \"Provide a agentic ai solution for the \"+ pain_point}]\n",
    "\n",
    "response2 = openai.chat.completions.create(\n",
    "    model=\"gpt-4.1-mini\",\n",
    "    messages=messages2\n",
    ")\n",
    "\n",
    "solution  = response2.choices[0].message.content\n",
    "print(solution)\n"
   ]
  },
  {
   "cell_type": "markdown",
   "metadata": {},
   "source": []
  }
 ],
 "metadata": {
  "kernelspec": {
   "display_name": ".venv",
   "language": "python",
   "name": "python3"
  },
  "language_info": {
   "codemirror_mode": {
    "name": "ipython",
    "version": 3
   },
   "file_extension": ".py",
   "mimetype": "text/x-python",
   "name": "python",
   "nbconvert_exporter": "python",
   "pygments_lexer": "ipython3",
   "version": "3.12.11"
  }
 },
 "nbformat": 4,
 "nbformat_minor": 2
}
